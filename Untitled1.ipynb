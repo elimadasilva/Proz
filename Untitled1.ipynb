{
  "nbformat": 4,
  "nbformat_minor": 0,
  "metadata": {
    "colab": {
      "provenance": [],
      "toc_visible": true,
      "authorship_tag": "ABX9TyOi9tE7Um+CCFEBhc9RxSp0",
      "include_colab_link": true
    },
    "kernelspec": {
      "name": "python3",
      "display_name": "Python 3"
    },
    "language_info": {
      "name": "python"
    }
  },
  "cells": [
    {
      "cell_type": "markdown",
      "metadata": {
        "id": "view-in-github",
        "colab_type": "text"
      },
      "source": [
        "<a href=\"https://colab.research.google.com/github/elimadasilva/Proz/blob/main/Untitled1.ipynb\" target=\"_parent\"><img src=\"https://colab.research.google.com/assets/colab-badge.svg\" alt=\"Open In Colab\"/></a>"
      ]
    },
    {
      "cell_type": "code",
      "execution_count": 4,
      "metadata": {
        "colab": {
          "base_uri": "https://localhost:8080/"
        },
        "id": "9VDSglGBjHxY",
        "outputId": "b6a2030e-816a-4745-c48b-d628e08fbb32"
      },
      "outputs": [
        {
          "output_type": "stream",
          "name": "stdout",
          "text": [
            "21 Andar\n",
            "20 Andar\n",
            "19 Andar\n",
            "18 Andar\n",
            "17 Andar\n",
            "16 Andar\n",
            "15 Andar\n",
            "14 Andar\n",
            "12 Andar\n",
            "11 Andar\n",
            "10 Andar\n",
            "9 Andar\n",
            "8 Andar\n",
            "7 Andar\n",
            "6 Andar\n",
            "5 Andar\n",
            "4 Andar\n",
            "3 Andar\n",
            "2 Andar\n",
            "1 Andar\n"
          ]
        }
      ],
      "source": [
        "#var\n",
        "andar = 21\n",
        "#inicio\n",
        "while True:\n",
        "    if (andar != 13):\n",
        "        print(andar, \"Andar\")\n",
        "    andar = andar - 1\n",
        "    if andar < 1:\n",
        "        break\n",
        "#Fimalgoritimo"
      ]
    }
  ]
}