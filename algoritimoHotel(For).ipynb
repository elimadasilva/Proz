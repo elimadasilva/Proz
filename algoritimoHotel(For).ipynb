{
  "nbformat": 4,
  "nbformat_minor": 0,
  "metadata": {
    "colab": {
      "provenance": [],
      "mount_file_id": "1aoK_uKxEbhLzEIOHqixJQ5r-hM9vXTKi",
      "authorship_tag": "ABX9TyOIbgJiM+DuzsHTMoLjE02y",
      "include_colab_link": true
    },
    "kernelspec": {
      "name": "python3",
      "display_name": "Python 3"
    },
    "language_info": {
      "name": "python"
    }
  },
  "cells": [
    {
      "cell_type": "markdown",
      "metadata": {
        "id": "view-in-github",
        "colab_type": "text"
      },
      "source": [
        "<a href=\"https://colab.research.google.com/github/elimadasilva/Proz/blob/main/algoritimoHotel(For).ipynb\" target=\"_parent\"><img src=\"https://colab.research.google.com/assets/colab-badge.svg\" alt=\"Open In Colab\"/></a>"
      ]
    },
    {
      "cell_type": "code",
      "execution_count": null,
      "metadata": {
        "id": "w1CgS2vySgiM"
      },
      "outputs": [],
      "source": []
    },
    {
      "cell_type": "code",
      "source": [
        "#Var\n",
        "numeroAndar = 0\n",
        "#Inicio\n",
        "for numeroAndar in range(21,0,-1):\n",
        "    if(numeroAndar == 13):\n",
        "        continue\n",
        "    print(numeroAndar,\" Andar\")\n",
        "#FimAlgoritmo"
      ],
      "metadata": {
        "colab": {
          "base_uri": "https://localhost:8080/"
        },
        "id": "XjodgmzqSz8V",
        "outputId": "63a30d15-6122-4b40-9491-eb691c3b46ab"
      },
      "execution_count": 1,
      "outputs": [
        {
          "output_type": "stream",
          "name": "stdout",
          "text": [
            "21  Andar\n",
            "20  Andar\n",
            "19  Andar\n",
            "18  Andar\n",
            "17  Andar\n",
            "16  Andar\n",
            "15  Andar\n",
            "14  Andar\n",
            "12  Andar\n",
            "11  Andar\n",
            "10  Andar\n",
            "9  Andar\n",
            "8  Andar\n",
            "7  Andar\n",
            "6  Andar\n",
            "5  Andar\n",
            "4  Andar\n",
            "3  Andar\n",
            "2  Andar\n",
            "1  Andar\n"
          ]
        }
      ]
    },
    {
      "cell_type": "markdown",
      "source": [
        "#Precisamos imprimir um número para cada andar de um hotel de 20 andares.\n",
        "#Porém, o dono do hotel é supersticioso e optou por não ter um 13ro andar.\n",
        "\n",
        "#Escreva um código que imprima todos os números exceto o número 13.\n",
        "#Escreva mais dois códigos que resolvam o mesmo problema, mas dessa vez usando os\n",
        "#outros dois tipos de laços de repetição aprendidos.\n",
        "\n",
        "#Como desafio, imprima eles em ordem decrescente (20, 19, 18...)\n",
        "\n",
        "#Trabalhe esse código em seu IDE, suba ele para sua conta no GitHub e compartilhe o\n",
        "#link desse projeto no campo ao lado para que outros desenvolvedores possam analisá-lo.\n",
        "\n",
        "#Laço de repetição For\n"
      ],
      "metadata": {
        "id": "Vc_lzdWwStQ9"
      }
    }
  ]
}